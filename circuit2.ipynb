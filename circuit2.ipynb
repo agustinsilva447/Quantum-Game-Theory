{
 "cells": [
  {
   "cell_type": "code",
   "execution_count": 1,
   "id": "70db0c21",
   "metadata": {},
   "outputs": [],
   "source": [
    "import qiskit\n",
    "import sympy as sp\n",
    "import numpy as np\n",
    "from qiskit import QuantumCircuit, QuantumRegister\n",
    "from qiskit.quantum_info import Operator\n",
    "from qiskit.visualization import circuit_drawer\n",
    "from qiskit.circuit import Gate\n",
    "from qiskit.extensions import RXGate, RYGate, RZGate "
   ]
  },
  {
   "cell_type": "code",
   "execution_count": 2,
   "id": "8bb2fa7c",
   "metadata": {},
   "outputs": [],
   "source": [
    "I = np.array([[1, 0],\n",
    "              [0, 1]])\n",
    "X = np.array([[0, 1],\n",
    "              [1, 0]])    \n",
    "I_f = np.kron(I, I)\n",
    "X_f = np.kron(X, X)\n",
    "J = Operator(1 / np.sqrt(2) * (I_f + 1j * X_f))    \n",
    "J_dg = J.adjoint()"
   ]
  },
  {
   "cell_type": "code",
   "execution_count": 12,
   "id": "05082e34",
   "metadata": {},
   "outputs": [],
   "source": [
    "n = 2\n",
    "Va1 = qiskit.circuit.Parameter('\\varphi_{A1}')\n",
    "Va2 = qiskit.circuit.Parameter('\\varphi_{A2}')\n",
    "Va3 = qiskit.circuit.Parameter('\\varphi_{A3}')\n",
    "Vb1 = qiskit.circuit.Parameter('\\varphi_{B1}')\n",
    "Vb2 = qiskit.circuit.Parameter('\\varphi_{B2}')\n",
    "Vb3 = qiskit.circuit.Parameter('\\varphi_{B3}')"
   ]
  },
  {
   "cell_type": "code",
   "execution_count": 13,
   "id": "d785830a",
   "metadata": {},
   "outputs": [
    {
     "data": {
      "text/plain": [
       "<qiskit.circuit.instructionset.InstructionSet at 0x1820de85b80>"
      ]
     },
     "execution_count": 13,
     "metadata": {},
     "output_type": "execute_result"
    }
   ],
   "source": [
    "circ = QuantumCircuit(n,n)\n",
    "circ.append(J, range(n))\n",
    "circ.append(RXGate(Va1),[0])\n",
    "circ.append(RYGate(Va2),[0])\n",
    "circ.append(RXGate(Va3),[0]) \n",
    "circ.append(RXGate(Vb1),[1])\n",
    "circ.append(RYGate(Vb2),[1])\n",
    "circ.append(RXGate(Vb3),[1]) \n",
    "circ.append(J_dg, range(n))\n",
    "circ.measure(range(n), range(n)) "
   ]
  },
  {
   "cell_type": "code",
   "execution_count": 14,
   "id": "2a08564a",
   "metadata": {},
   "outputs": [
    {
     "ename": "MissingOptionalLibraryError",
     "evalue": "\"The 'pdflatex' library is required to use 'LaTeX circuit drawing'.  You will likely need to install a full LaTeX distribution for your system.\"",
     "output_type": "error",
     "traceback": [
      "\u001b[1;31m---------------------------------------------------------------------------\u001b[0m",
      "\u001b[1;31mMissingOptionalLibraryError\u001b[0m               Traceback (most recent call last)",
      "Input \u001b[1;32mIn [14]\u001b[0m, in \u001b[0;36m<cell line: 1>\u001b[1;34m()\u001b[0m\n\u001b[1;32m----> 1\u001b[0m \u001b[43mcircuit_drawer\u001b[49m\u001b[43m(\u001b[49m\u001b[43mcirc\u001b[49m\u001b[43m,\u001b[49m\u001b[43m \u001b[49m\u001b[43moutput\u001b[49m\u001b[38;5;241;43m=\u001b[39;49m\u001b[38;5;124;43m'\u001b[39;49m\u001b[38;5;124;43mlatex\u001b[39;49m\u001b[38;5;124;43m'\u001b[39;49m\u001b[43m,\u001b[49m\u001b[43m \u001b[49m\u001b[43mscale\u001b[49m\u001b[43m \u001b[49m\u001b[38;5;241;43m=\u001b[39;49m\u001b[43m \u001b[49m\u001b[38;5;241;43m1\u001b[39;49m\u001b[43m)\u001b[49m\n",
      "File \u001b[1;32m~\\AppData\\Local\\Programs\\Python\\Python310\\lib\\site-packages\\qiskit\\visualization\\circuit_visualization.py:256\u001b[0m, in \u001b[0;36mcircuit_drawer\u001b[1;34m(circuit, scale, filename, style, output, interactive, plot_barriers, reverse_bits, justify, vertical_compression, idle_wires, with_layout, fold, ax, initial_state, cregbundle)\u001b[0m\n\u001b[0;32m    242\u001b[0m     \u001b[38;5;28;01mreturn\u001b[39;00m _text_circuit_drawer(\n\u001b[0;32m    243\u001b[0m         circuit,\n\u001b[0;32m    244\u001b[0m         filename\u001b[38;5;241m=\u001b[39mfilename,\n\u001b[1;32m   (...)\u001b[0m\n\u001b[0;32m    253\u001b[0m         cregbundle\u001b[38;5;241m=\u001b[39mcregbundle,\n\u001b[0;32m    254\u001b[0m     )\n\u001b[0;32m    255\u001b[0m \u001b[38;5;28;01melif\u001b[39;00m output \u001b[38;5;241m==\u001b[39m \u001b[38;5;124m\"\u001b[39m\u001b[38;5;124mlatex\u001b[39m\u001b[38;5;124m\"\u001b[39m:\n\u001b[1;32m--> 256\u001b[0m     image \u001b[38;5;241m=\u001b[39m \u001b[43m_latex_circuit_drawer\u001b[49m\u001b[43m(\u001b[49m\n\u001b[0;32m    257\u001b[0m \u001b[43m        \u001b[49m\u001b[43mcircuit\u001b[49m\u001b[43m,\u001b[49m\n\u001b[0;32m    258\u001b[0m \u001b[43m        \u001b[49m\u001b[43mfilename\u001b[49m\u001b[38;5;241;43m=\u001b[39;49m\u001b[43mfilename\u001b[49m\u001b[43m,\u001b[49m\n\u001b[0;32m    259\u001b[0m \u001b[43m        \u001b[49m\u001b[43mscale\u001b[49m\u001b[38;5;241;43m=\u001b[39;49m\u001b[43mscale\u001b[49m\u001b[43m,\u001b[49m\n\u001b[0;32m    260\u001b[0m \u001b[43m        \u001b[49m\u001b[43mstyle\u001b[49m\u001b[38;5;241;43m=\u001b[39;49m\u001b[43mstyle\u001b[49m\u001b[43m,\u001b[49m\n\u001b[0;32m    261\u001b[0m \u001b[43m        \u001b[49m\u001b[43mplot_barriers\u001b[49m\u001b[38;5;241;43m=\u001b[39;49m\u001b[43mplot_barriers\u001b[49m\u001b[43m,\u001b[49m\n\u001b[0;32m    262\u001b[0m \u001b[43m        \u001b[49m\u001b[43mreverse_bits\u001b[49m\u001b[38;5;241;43m=\u001b[39;49m\u001b[43mreverse_bits\u001b[49m\u001b[43m,\u001b[49m\n\u001b[0;32m    263\u001b[0m \u001b[43m        \u001b[49m\u001b[43mjustify\u001b[49m\u001b[38;5;241;43m=\u001b[39;49m\u001b[43mjustify\u001b[49m\u001b[43m,\u001b[49m\n\u001b[0;32m    264\u001b[0m \u001b[43m        \u001b[49m\u001b[43midle_wires\u001b[49m\u001b[38;5;241;43m=\u001b[39;49m\u001b[43midle_wires\u001b[49m\u001b[43m,\u001b[49m\n\u001b[0;32m    265\u001b[0m \u001b[43m        \u001b[49m\u001b[43mwith_layout\u001b[49m\u001b[38;5;241;43m=\u001b[39;49m\u001b[43mwith_layout\u001b[49m\u001b[43m,\u001b[49m\n\u001b[0;32m    266\u001b[0m \u001b[43m        \u001b[49m\u001b[43minitial_state\u001b[49m\u001b[38;5;241;43m=\u001b[39;49m\u001b[43minitial_state\u001b[49m\u001b[43m,\u001b[49m\n\u001b[0;32m    267\u001b[0m \u001b[43m        \u001b[49m\u001b[43mcregbundle\u001b[49m\u001b[38;5;241;43m=\u001b[39;49m\u001b[43mcregbundle\u001b[49m\u001b[43m,\u001b[49m\n\u001b[0;32m    268\u001b[0m \u001b[43m    \u001b[49m\u001b[43m)\u001b[49m\n\u001b[0;32m    269\u001b[0m \u001b[38;5;28;01melif\u001b[39;00m output \u001b[38;5;241m==\u001b[39m \u001b[38;5;124m\"\u001b[39m\u001b[38;5;124mlatex_source\u001b[39m\u001b[38;5;124m\"\u001b[39m:\n\u001b[0;32m    270\u001b[0m     \u001b[38;5;28;01mreturn\u001b[39;00m _generate_latex_source(\n\u001b[0;32m    271\u001b[0m         circuit,\n\u001b[0;32m    272\u001b[0m         filename\u001b[38;5;241m=\u001b[39mfilename,\n\u001b[1;32m   (...)\u001b[0m\n\u001b[0;32m    281\u001b[0m         cregbundle\u001b[38;5;241m=\u001b[39mcregbundle,\n\u001b[0;32m    282\u001b[0m     )\n",
      "File \u001b[1;32m~\\AppData\\Local\\Programs\\Python\\Python310\\lib\\site-packages\\qiskit\\visualization\\circuit_visualization.py:457\u001b[0m, in \u001b[0;36m_latex_circuit_drawer\u001b[1;34m(circuit, scale, style, filename, plot_barriers, reverse_bits, justify, idle_wires, with_layout, initial_state, cregbundle)\u001b[0m\n\u001b[0;32m    443\u001b[0m _generate_latex_source(\n\u001b[0;32m    444\u001b[0m     circuit,\n\u001b[0;32m    445\u001b[0m     filename\u001b[38;5;241m=\u001b[39mtmppath,\n\u001b[1;32m   (...)\u001b[0m\n\u001b[0;32m    454\u001b[0m     cregbundle\u001b[38;5;241m=\u001b[39mcregbundle,\n\u001b[0;32m    455\u001b[0m )\n\u001b[0;32m    456\u001b[0m \u001b[38;5;28;01mif\u001b[39;00m \u001b[38;5;129;01mnot\u001b[39;00m HAS_PDFLATEX:\n\u001b[1;32m--> 457\u001b[0m     \u001b[38;5;28;01mraise\u001b[39;00m MissingOptionalLibraryError(\n\u001b[0;32m    458\u001b[0m         libname\u001b[38;5;241m=\u001b[39m\u001b[38;5;124m\"\u001b[39m\u001b[38;5;124mpdflatex\u001b[39m\u001b[38;5;124m\"\u001b[39m,\n\u001b[0;32m    459\u001b[0m         name\u001b[38;5;241m=\u001b[39m\u001b[38;5;124m\"\u001b[39m\u001b[38;5;124mLaTeX circuit drawing\u001b[39m\u001b[38;5;124m\"\u001b[39m,\n\u001b[0;32m    460\u001b[0m         msg\u001b[38;5;241m=\u001b[39m\u001b[38;5;124m\"\u001b[39m\u001b[38;5;124mYou will likely need to install a full LaTeX distribution for your system\u001b[39m\u001b[38;5;124m\"\u001b[39m,\n\u001b[0;32m    461\u001b[0m     )\n\u001b[0;32m    462\u001b[0m \u001b[38;5;28;01mif\u001b[39;00m \u001b[38;5;129;01mnot\u001b[39;00m HAS_PDFTOCAIRO:\n\u001b[0;32m    463\u001b[0m     \u001b[38;5;28;01mraise\u001b[39;00m MissingOptionalLibraryError(\n\u001b[0;32m    464\u001b[0m         libname\u001b[38;5;241m=\u001b[39m\u001b[38;5;124m\"\u001b[39m\u001b[38;5;124mpdftocairo\u001b[39m\u001b[38;5;124m\"\u001b[39m,\n\u001b[0;32m    465\u001b[0m         name\u001b[38;5;241m=\u001b[39m\u001b[38;5;124m\"\u001b[39m\u001b[38;5;124mLaTeX circuit drawing\u001b[39m\u001b[38;5;124m\"\u001b[39m,\n\u001b[0;32m    466\u001b[0m         msg\u001b[38;5;241m=\u001b[39m\u001b[38;5;124m\"\u001b[39m\u001b[38;5;124mThis is part of the \u001b[39m\u001b[38;5;124m'\u001b[39m\u001b[38;5;124mpoppler\u001b[39m\u001b[38;5;124m'\u001b[39m\u001b[38;5;124m set of PDF utilities\u001b[39m\u001b[38;5;124m\"\u001b[39m,\n\u001b[0;32m    467\u001b[0m     )\n",
      "\u001b[1;31mMissingOptionalLibraryError\u001b[0m: \"The 'pdflatex' library is required to use 'LaTeX circuit drawing'.  You will likely need to install a full LaTeX distribution for your system.\""
     ]
    }
   ],
   "source": [
    "circuit_drawer(circ, output='latex', scale = 1)"
   ]
  },
  {
   "cell_type": "code",
   "execution_count": null,
   "id": "20bf95e7",
   "metadata": {},
   "outputs": [],
   "source": []
  }
 ],
 "metadata": {
  "kernelspec": {
   "display_name": "Python 3 (ipykernel)",
   "language": "python",
   "name": "python3"
  },
  "language_info": {
   "codemirror_mode": {
    "name": "ipython",
    "version": 3
   },
   "file_extension": ".py",
   "mimetype": "text/x-python",
   "name": "python",
   "nbconvert_exporter": "python",
   "pygments_lexer": "ipython3",
   "version": "3.10.4"
  }
 },
 "nbformat": 4,
 "nbformat_minor": 5
}
