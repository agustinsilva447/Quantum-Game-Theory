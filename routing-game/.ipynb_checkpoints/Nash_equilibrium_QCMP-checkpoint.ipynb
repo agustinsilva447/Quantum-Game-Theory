{
 "cells": [
  {
   "cell_type": "code",
   "execution_count": 1,
   "id": "322d9179",
   "metadata": {},
   "outputs": [],
   "source": [
    "import numpy as np\n",
    "import qiskit\n",
    "from qiskit import QuantumCircuit, Aer, execute\n",
    "from qiskit.quantum_info import Operator\n",
    "from qiskit.visualization import plot_histogram, plot_state_city\n",
    "from qiskit.extensions import RXGate, RYGate, RZGate"
   ]
  },
  {
   "cell_type": "markdown",
   "id": "240a8042",
   "metadata": {},
   "source": [
    "### Cálculo de óptimo de Pareto utilizando la estrategia $S_{1}$ en los dos jugadores:"
   ]
  },
  {
   "cell_type": "code",
   "execution_count": 4,
   "id": "a81d52ef",
   "metadata": {},
   "outputs": [
    {
     "name": "stdout",
     "output_type": "stream",
     "text": [
      "     ┌──────────┐┌─────────┐┌─────────┐┌───────┐┌──────────┐\n",
      "q_0: ┤0         ├┤ RX(π/2) ├┤ RY(π/4) ├┤ RZ(0) ├┤0         ├\n",
      "     │  unitary │├─────────┤├─────────┤├───────┤│  unitary │\n",
      "q_1: ┤1         ├┤ RX(π/2) ├┤ RY(π/4) ├┤ RZ(0) ├┤1         ├\n",
      "     └──────────┘└─────────┘└─────────┘└───────┘└──────────┘\n",
      "c: 2/═══════════════════════════════════════════════════════\n",
      "                                                            \n",
      "[ 0.+0.j    -0.-0.707j -0.-0.707j  0.+0.j   ]\n"
     ]
    }
   ],
   "source": [
    "I_f = I = np.array([[1, 0],\n",
    "              [0, 1]])\n",
    "X_f = X = np.array([[0, 1],\n",
    "              [1, 0]])\n",
    "\n",
    "n = 2\n",
    "for q in range(n-1):\n",
    "    I_f = np.kron(I_f, I)\n",
    "    X_f = np.kron(X_f, X)\n",
    "\n",
    "J = Operator(1 / np.sqrt(2) * (I_f + 1j * X_f))    \n",
    "J_dg = J.adjoint()\n",
    "\n",
    "dx0 = np.pi/2\n",
    "dy0 = np.pi/4\n",
    "dz0 = 0\n",
    "\n",
    "dx1 = np.pi/2\n",
    "dy1 = np.pi/4\n",
    "dz1 = 0\n",
    "\n",
    "circ = QuantumCircuit(n,n)\n",
    "circ.append(J, range(n))\n",
    "circ.append(RXGate(dx0),[0])\n",
    "circ.append(RYGate(dy0),[0])\n",
    "circ.append(RZGate(dz0),[0])    \n",
    "circ.append(RXGate(dx1),[1])\n",
    "circ.append(RYGate(dy1),[1])\n",
    "circ.append(RZGate(dz1),[1])    \n",
    "\n",
    "circ.append(J_dg, range(n))\n",
    "#circ.measure(range(n), range(n))\n",
    "print(circ)\n",
    "\n",
    "backend = Aer.get_backend('statevector_simulator')\n",
    "job = execute(circ, backend)\n",
    "result = job.result()\n",
    "statevector = result.get_statevector(circ)\n",
    "print(np.round(statevector,3))"
   ]
  },
  {
   "cell_type": "markdown",
   "id": "7831c9ae",
   "metadata": {},
   "source": [
    "### Demostración de que $S_{1}$ no es un equilibrio de Nash ya que existe la estrategia $S_{x}$ que incentiva a los jugadores a cambiar para obtener mayor beneficio"
   ]
  },
  {
   "cell_type": "code",
   "execution_count": 20,
   "id": "b3c466cf",
   "metadata": {},
   "outputs": [
    {
     "name": "stdout",
     "output_type": "stream",
     "text": [
      "     ┌──────────┐┌─────────┐┌─────────┐ ┌───────┐  ┌──────────┐\n",
      "q_0: ┤0         ├┤ RX(π/2) ├┤ RY(π/4) ├─┤ RZ(0) ├──┤0         ├\n",
      "     │  unitary │├─────────┤├─────────┤┌┴───────┴─┐│  unitary │\n",
      "q_1: ┤1         ├┤ RX(π/2) ├┤ RY(π/4) ├┤ RZ(3π/2) ├┤1         ├\n",
      "     └──────────┘└─────────┘└─────────┘└──────────┘└──────────┘\n",
      "c: 2/══════════════════════════════════════════════════════════\n",
      "                                                               \n",
      "[ 0.+0.j  0.-0.j  0.+1.j -0.-0.j]\n"
     ]
    }
   ],
   "source": [
    "I_f = I = np.array([[1, 0],\n",
    "              [0, 1]])\n",
    "X_f = X = np.array([[0, 1],\n",
    "              [1, 0]])\n",
    "\n",
    "n = 2\n",
    "for q in range(n-1):\n",
    "    I_f = np.kron(I_f, I)\n",
    "    X_f = np.kron(X_f, X)\n",
    "\n",
    "J = Operator(1 / np.sqrt(2) * (I_f + 1j * X_f))    \n",
    "J_dg = J.adjoint()\n",
    "\n",
    "dx0 = np.pi/2\n",
    "dy0 = np.pi/4\n",
    "dz0 = 0\n",
    "\n",
    "dx1 = np.pi/2\n",
    "dy1 = np.pi/4\n",
    "dz1 = 3*np.pi/2\n",
    "\n",
    "circ = QuantumCircuit(n,n)\n",
    "circ.append(J, range(n))\n",
    "circ.append(RXGate(dx0),[0])\n",
    "circ.append(RYGate(dy0),[0])\n",
    "circ.append(RZGate(dz0),[0])    \n",
    "circ.append(RXGate(dx1),[1])\n",
    "circ.append(RYGate(dy1),[1])\n",
    "circ.append(RZGate(dz1),[1])    \n",
    "\n",
    "circ.append(J_dg, range(n))\n",
    "#circ.measure(range(n), range(n))\n",
    "print(circ)\n",
    "\n",
    "\n",
    "backend = Aer.get_backend('statevector_simulator')\n",
    "job = execute(circ, backend)\n",
    "result = job.result()\n",
    "statevector = result.get_statevector(circ)\n",
    "print(np.round(statevector,5))"
   ]
  },
  {
   "cell_type": "code",
   "execution_count": 21,
   "id": "d385487e",
   "metadata": {},
   "outputs": [
    {
     "name": "stdout",
     "output_type": "stream",
     "text": [
      "     ┌──────────┐┌─────────┐┌─────────┐┌──────────┐┌──────────┐\n",
      "q_0: ┤0         ├┤ RX(π/2) ├┤ RY(π/4) ├┤ RZ(3π/2) ├┤0         ├\n",
      "     │  unitary │├─────────┤├─────────┤└┬───────┬─┘│  unitary │\n",
      "q_1: ┤1         ├┤ RX(π/2) ├┤ RY(π/4) ├─┤ RZ(0) ├──┤1         ├\n",
      "     └──────────┘└─────────┘└─────────┘ └───────┘  └──────────┘\n",
      "c: 2/══════════════════════════════════════════════════════════\n",
      "                                                               \n",
      "[ 0.+0.j  0.+1.j  0.-0.j -0.-0.j]\n"
     ]
    }
   ],
   "source": [
    "I_f = I = np.array([[1, 0],\n",
    "              [0, 1]])\n",
    "X_f = X = np.array([[0, 1],\n",
    "              [1, 0]])\n",
    "\n",
    "n = 2\n",
    "for q in range(n-1):\n",
    "    I_f = np.kron(I_f, I)\n",
    "    X_f = np.kron(X_f, X)\n",
    "\n",
    "J = Operator(1 / np.sqrt(2) * (I_f + 1j * X_f))    \n",
    "J_dg = J.adjoint()\n",
    "\n",
    "dx0 = np.pi/2\n",
    "dy0 = np.pi/4\n",
    "dz0 = 3*np.pi/2\n",
    "\n",
    "dx1 = np.pi/2\n",
    "dy1 = np.pi/4\n",
    "dz1 = 0\n",
    "\n",
    "circ = QuantumCircuit(n,n)\n",
    "circ.append(J, range(n))\n",
    "circ.append(RXGate(dx0),[0])\n",
    "circ.append(RYGate(dy0),[0])\n",
    "circ.append(RZGate(dz0),[0])    \n",
    "circ.append(RXGate(dx1),[1])\n",
    "circ.append(RYGate(dy1),[1])\n",
    "circ.append(RZGate(dz1),[1])    \n",
    "\n",
    "circ.append(J_dg, range(n))\n",
    "#circ.measure(range(n), range(n))\n",
    "print(circ)\n",
    "\n",
    "\n",
    "backend = Aer.get_backend('statevector_simulator')\n",
    "job = execute(circ, backend)\n",
    "result = job.result()\n",
    "statevector = result.get_statevector(circ)\n",
    "print(np.round(statevector,5))"
   ]
  },
  {
   "cell_type": "markdown",
   "id": "8a69d111",
   "metadata": {},
   "source": [
    "### Cálculo de estrategia mixta $S_{2}$ que es un óptimo de Pareto y equilibrio de Nash:"
   ]
  },
  {
   "cell_type": "code",
   "execution_count": 22,
   "id": "dc6ce793",
   "metadata": {},
   "outputs": [
    {
     "name": "stdout",
     "output_type": "stream",
     "text": [
      "     ┌──────────┐┌─────────┐┌─────────┐┌──────────┐┌──────────┐\n",
      "q_0: ┤0         ├┤ RX(π/2) ├┤ RY(π/4) ├┤ RZ(3π/2) ├┤0         ├\n",
      "     │  unitary │├─────────┤├─────────┤├──────────┤│  unitary │\n",
      "q_1: ┤1         ├┤ RX(π/2) ├┤ RY(π/4) ├┤ RZ(3π/2) ├┤1         ├\n",
      "     └──────────┘└─────────┘└─────────┘└──────────┘└──────────┘\n",
      "c: 2/══════════════════════════════════════════════════════════\n",
      "                                                               \n",
      "[-0.-0.j     0.-0.707j  0.-0.707j  0.+0.j   ]\n"
     ]
    }
   ],
   "source": [
    "I_f = I = np.array([[1, 0],\n",
    "              [0, 1]])\n",
    "X_f = X = np.array([[0, 1],\n",
    "              [1, 0]])\n",
    "\n",
    "n = 2\n",
    "for q in range(n-1):\n",
    "    I_f = np.kron(I_f, I)\n",
    "    X_f = np.kron(X_f, X)\n",
    "\n",
    "J = Operator(1 / np.sqrt(2) * (I_f + 1j * X_f))    \n",
    "J_dg = J.adjoint()\n",
    "\n",
    "dx0 = np.pi/2\n",
    "dy0 = np.pi/4\n",
    "dz0 = 3*np.pi/2\n",
    "\n",
    "dx1 = np.pi/2\n",
    "dy1 = np.pi/4\n",
    "dz1 = 3*np.pi/2\n",
    "\n",
    "circ = QuantumCircuit(n,n)\n",
    "circ.append(J, range(n))\n",
    "circ.append(RXGate(dx0),[0])\n",
    "circ.append(RYGate(dy0),[0])\n",
    "circ.append(RZGate(dz0),[0])    \n",
    "circ.append(RXGate(dx1),[1])\n",
    "circ.append(RYGate(dy1),[1])\n",
    "circ.append(RZGate(dz1),[1])    \n",
    "\n",
    "circ.append(J_dg, range(n))\n",
    "#circ.measure(range(n), range(n))\n",
    "print(circ)\n",
    "\n",
    "\n",
    "backend = Aer.get_backend('statevector_simulator')\n",
    "job = execute(circ, backend)\n",
    "result = job.result()\n",
    "statevector = result.get_statevector(circ)\n",
    "print(np.round(statevector,3))"
   ]
  },
  {
   "cell_type": "markdown",
   "id": "aa3d59d6",
   "metadata": {},
   "source": [
    "La estrategia $S_{2} = \\left\\{\\begin{matrix}\n",
    "R_{X}=R_{X}(\\frac{\\pi}{2})\\\\\n",
    "R_{Y}=R_{Y}(\\frac{\\pi}{4})\\\\\n",
    "R_{Z}= \\begin{cases}\n",
    "R_{Z}(0) & \\text{con } p = 0.25\\\\ \n",
    "R_{Z}(\\frac{\\pi}{2}) & \\text{con } p = 0.25\\\\ \n",
    "R_{Z}(\\pi) & \\text{con } p = 0.25\\\\\n",
    "R_{Z}(\\frac{3\\pi}{2}) & \\text{con } p = 0.25\n",
    "\\end{cases}\\\\\n",
    "\\end{matrix}\\right.$ es Nash ya que ningún jugador tiene ningún incentivo para modificar individualmente su estrategia y es Pareto ya que ningún jugador tampoco puede mejorar su recompensa sin empeorar la de otro."
   ]
  },
  {
   "cell_type": "markdown",
   "id": "38914a6c",
   "metadata": {},
   "source": [
    "### Juego con 4 agentes:"
   ]
  },
  {
   "cell_type": "code",
   "execution_count": 32,
   "id": "3bed20f4",
   "metadata": {},
   "outputs": [
    {
     "name": "stdout",
     "output_type": "stream",
     "text": [
      "     ┌──────────┐┌─────────┐┌──────────┐┌──────────┐┌──────────┐\n",
      "q_0: ┤0         ├┤ RX(π/2) ├┤ RY(3π/8) ├┤ RZ(3π/4) ├┤0         ├\n",
      "     │          │├─────────┤├──────────┤├──────────┤│          │\n",
      "q_1: ┤1         ├┤ RX(π/2) ├┤ RY(3π/8) ├┤ RZ(3π/4) ├┤1         ├\n",
      "     │  unitary │├─────────┤├──────────┤├──────────┤│  unitary │\n",
      "q_2: ┤2         ├┤ RX(π/2) ├┤ RY(3π/8) ├┤ RZ(3π/4) ├┤2         ├\n",
      "     │          │├─────────┤├──────────┤├──────────┤│          │\n",
      "q_3: ┤3         ├┤ RX(π/2) ├┤ RY(3π/8) ├┤ RZ(3π/4) ├┤3         ├\n",
      "     └──────────┘└─────────┘└──────────┘└──────────┘└──────────┘\n",
      "c: 4/═══════════════════════════════════════════════════════════\n",
      "                                                                \n",
      "[-0.-0.j   0.-0.5j  0.-0.5j -0.+0.j   0.-0.5j -0.-0.j  -0.-0.j   0.-0.j\n",
      "  0.-0.5j -0.-0.j  -0.-0.j   0.-0.j  -0.+0.j   0.-0.j  -0.-0.j   0.-0.j ]\n"
     ]
    }
   ],
   "source": [
    "I_f = I = np.array([[1, 0],\n",
    "              [0, 1]])\n",
    "X_f = X = np.array([[0, 1],\n",
    "              [1, 0]])\n",
    "\n",
    "n = 4\n",
    "for q in range(n-1):\n",
    "    I_f = np.kron(I_f, I)\n",
    "    X_f = np.kron(X_f, X)\n",
    "\n",
    "J = Operator(1 / np.sqrt(2) * (I_f + 1j * X_f))    \n",
    "J_dg = J.adjoint()\n",
    "\n",
    "dx = np.pi/2\n",
    "dy = 3*np.pi/8\n",
    "dz = 3*np.pi/4\n",
    "\n",
    "circ = QuantumCircuit(n,n)\n",
    "circ.append(J, range(n))\n",
    "for q in range(n):\n",
    "    circ.append(RXGate(dx),[q])\n",
    "    circ.append(RYGate(dy),[q])\n",
    "    circ.append(RZGate(dz),[q])            \n",
    "circ.append(J_dg, range(n))\n",
    "#circ.measure(range(n), range(n))\n",
    "print(circ)\n",
    "\n",
    "\n",
    "backend = Aer.get_backend('statevector_simulator')\n",
    "job = execute(circ, backend)\n",
    "result = job.result()\n",
    "statevector = result.get_statevector(circ)\n",
    "print(np.round(statevector,3))"
   ]
  },
  {
   "cell_type": "code",
   "execution_count": null,
   "id": "19a3d204",
   "metadata": {},
   "outputs": [],
   "source": []
  }
 ],
 "metadata": {
  "kernelspec": {
   "display_name": "Python 3",
   "language": "python",
   "name": "python3"
  },
  "language_info": {
   "codemirror_mode": {
    "name": "ipython",
    "version": 3
   },
   "file_extension": ".py",
   "mimetype": "text/x-python",
   "name": "python",
   "nbconvert_exporter": "python",
   "pygments_lexer": "ipython3",
   "version": "3.8.10"
  }
 },
 "nbformat": 4,
 "nbformat_minor": 5
}
